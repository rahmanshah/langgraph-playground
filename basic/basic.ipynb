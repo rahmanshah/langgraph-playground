{
 "cells": [
  {
   "cell_type": "markdown",
   "id": "464d2d13",
   "metadata": {},
   "source": [
    "## dotenv and chat models setup"
   ]
  },
  {
   "cell_type": "code",
   "execution_count": 1,
   "id": "478b541c",
   "metadata": {},
   "outputs": [
    {
     "data": {
      "text/plain": [
       "True"
      ]
     },
     "execution_count": 1,
     "metadata": {},
     "output_type": "execute_result"
    }
   ],
   "source": [
    "from dotenv import load_dotenv, find_dotenv\n",
    "import os\n",
    "\n",
    "load_dotenv(find_dotenv(), override=True)"
   ]
  },
  {
   "cell_type": "code",
   "execution_count": 1,
   "id": "5403c6d7",
   "metadata": {},
   "outputs": [
    {
     "name": "stdout",
     "output_type": "stream",
     "text": [
      "The capital of Finland is Helsinki.\n"
     ]
    }
   ],
   "source": [
    "from langchain_groq import ChatGroq\n",
    "\n",
    "llm = ChatGroq(model=\"llama3-8b-8192\", temperature=1)\n",
    "\n",
    "response = llm.invoke(\"What is the capital of Finland?\")\n",
    "print(response.content)"
   ]
  },
  {
   "cell_type": "code",
   "execution_count": 2,
   "id": "4ebb26c2",
   "metadata": {},
   "outputs": [],
   "source": [
    "from typing import TypedDict\n",
    "from langchain_core.messages import HumanMessage\n",
    "from langgraph.graph import StateGraph, START, END"
   ]
  },
  {
   "cell_type": "code",
   "execution_count": 3,
   "id": "c27a61e9",
   "metadata": {},
   "outputs": [],
   "source": [
    "class AgentState(TypedDict):\n",
    "    user_message: HumanMessage\n",
    "\n",
    "def first_node(state: AgentState) -> AgentState:\n",
    "    response = llm.invoke(state['user_message'])\n",
    "    print(f'\\nAI: {response.content}')\n",
    "    return state"
   ]
  },
  {
   "cell_type": "code",
   "execution_count": 4,
   "id": "31c50d97",
   "metadata": {},
   "outputs": [],
   "source": [
    "graph = StateGraph(AgentState)\n",
    "graph.add_node(\"node1\", first_node)\n",
    "graph.add_edge(START, \"node1\")\n",
    "graph.add_edge(\"node1\", END)\n",
    "agent = graph.compile()"
   ]
  },
  {
   "cell_type": "code",
   "execution_count": 5,
   "id": "6154b502",
   "metadata": {},
   "outputs": [
    {
     "data": {
      "image/png": "[encoded data removed]",
      "text/plain": [
       "<langgraph.graph.state.CompiledStateGraph object at 0x00000183BF539940>"
      ]
     },
     "execution_count": 5,
     "metadata": {},
     "output_type": "execute_result"
    }
   ],
   "source": [
    "agent"
   ]
  },
  {
   "cell_type": "code",
   "execution_count": 7,
   "id": "a039ff17",
   "metadata": {},
   "outputs": [
    {
     "name": "stdout",
     "output_type": "stream",
     "text": [
      "\n",
      "AI: I am LLaMA, an AI assistant developed by Meta AI that can understand and respond to human input in a conversational manner. I'm not a human, but a computer program designed to simulate conversation and answer questions to the best of my knowledge.\n",
      "Exiting the agent.\n"
     ]
    }
   ],
   "source": [
    "while True:\n",
    "    user_input = input(\"Enter the message: \")\n",
    "    if user_input != \"exit\":\n",
    "        agent.invoke({\"user_message\": [HumanMessage(content=user_input)]})\n",
    "    else:\n",
    "        print(\"Exiting the agent.\")\n",
    "        break"
   ]
  },
  {
   "cell_type": "markdown",
   "id": "f9bfaba0",
   "metadata": {},
   "source": [
    "## Agent 2 - Agent with context feeding\n",
    "\n",
    "#### 1. Understand different messages in langgraph\n",
    "#### 2.Understand Union type annotation\n",
    "#### 3.how to feed context back into LLM"
   ]
  },
  {
   "cell_type": "code",
   "execution_count": 1,
   "id": "2fb7032e",
   "metadata": {},
   "outputs": [],
   "source": [
    "import os\n",
    "from typing import TypedDict, Union, List\n",
    "from langchain_core.messages import HumanMessage, SystemMessage, AIMessage\n",
    "from langgraph.graph import StateGraph, START, END"
   ]
  }
 ],
 "metadata": {
  "kernelspec": {
   "display_name": ".venv",
   "language": "python",
   "name": "python3"
  },
  "language_info": {
   "codemirror_mode": {
    "name": "ipython",
    "version": 3
   },
   "file_extension": ".py",
   "mimetype": "text/x-python",
   "name": "python",
   "nbconvert_exporter": "python",
   "pygments_lexer": "ipython3",
   "version": "3.13.5"
  }
 },
 "nbformat": 4,
 "nbformat_minor": 5
}
