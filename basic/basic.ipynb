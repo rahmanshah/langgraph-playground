{
 "cells": [
  {
   "cell_type": "markdown",
   "id": "464d2d13",
   "metadata": {},
   "source": [
    "## dotenv and chat models setup"
   ]
  },
  {
   "cell_type": "code",
   "execution_count": 8,
   "id": "478b541c",
   "metadata": {},
   "outputs": [
    {
     "data": {
      "text/plain": [
       "True"
      ]
     },
     "execution_count": 8,
     "metadata": {},
     "output_type": "execute_result"
    }
   ],
   "source": [
    "from dotenv import load_dotenv, find_dotenv\n",
    "import os\n",
    "\n",
    "load_dotenv(find_dotenv(), override=True)"
   ]
  },
  {
   "cell_type": "code",
   "execution_count": 9,
   "id": "5403c6d7",
   "metadata": {},
   "outputs": [
    {
     "name": "stdout",
     "output_type": "stream",
     "text": [
      "The capital of Finland is Helsinki.\n"
     ]
    }
   ],
   "source": [
    "from langchain_groq import ChatGroq\n",
    "\n",
    "llm = ChatGroq(model=\"llama3-8b-8192\", temperature=1)\n",
    "\n",
    "response = llm.invoke(\"What is the capital of Finland?\")\n",
    "print(response.content)"
   ]
  },
  {
   "cell_type": "code",
   "execution_count": 2,
   "id": "4ebb26c2",
   "metadata": {},
   "outputs": [],
   "source": [
    "from typing import TypedDict\n",
    "from langchain_core.messages import HumanMessage\n",
    "from langgraph.graph import StateGraph, START, END"
   ]
  },
  {
   "cell_type": "code",
   "execution_count": 3,
   "id": "c27a61e9",
   "metadata": {},
   "outputs": [],
   "source": [
    "class AgentState(TypedDict):\n",
    "    user_message: HumanMessage\n",
    "\n",
    "def first_node(state: AgentState) -> AgentState:\n",
    "    response = llm.invoke(state['user_message'])\n",
    "    print(f'\\nAI: {response.content}')\n",
    "    return state"
   ]
  },
  {
   "cell_type": "code",
   "execution_count": 4,
   "id": "31c50d97",
   "metadata": {},
   "outputs": [],
   "source": [
    "graph = StateGraph(AgentState)\n",
    "graph.add_node(\"node1\", first_node)\n",
    "graph.add_edge(START, \"node1\")\n",
    "graph.add_edge(\"node1\", END)\n",
    "agent = graph.compile()"
   ]
  },
  {
   "cell_type": "code",
   "execution_count": 5,
   "id": "6154b502",
   "metadata": {},
   "outputs": [
    {
     "data": {
      "image/png": "[encoded data removed]",
      "text/plain": [
       "<langgraph.graph.state.CompiledStateGraph object at 0x00000183BF539940>"
      ]
     },
     "execution_count": 5,
     "metadata": {},
     "output_type": "execute_result"
    }
   ],
   "source": [
    "agent"
   ]
  },
  {
   "cell_type": "code",
   "execution_count": 7,
   "id": "a039ff17",
   "metadata": {},
   "outputs": [
    {
     "name": "stdout",
     "output_type": "stream",
     "text": [
      "\n",
      "AI: I am LLaMA, an AI assistant developed by Meta AI that can understand and respond to human input in a conversational manner. I'm not a human, but a computer program designed to simulate conversation and answer questions to the best of my knowledge.\n",
      "Exiting the agent.\n"
     ]
    }
   ],
   "source": [
    "while True:\n",
    "    user_input = input(\"Enter the message: \")\n",
    "    if user_input != \"exit\":\n",
    "        agent.invoke({\"user_message\": [HumanMessage(content=user_input)]})\n",
    "    else:\n",
    "        print(\"Exiting the agent.\")\n",
    "        break"
   ]
  },
  {
   "cell_type": "markdown",
   "id": "f9bfaba0",
   "metadata": {},
   "source": [
    "## Agent 2 - Agent with context feeding\n",
    "\n",
    "#### 1. Understand different messages in langgraph\n",
    "#### 2.Understand Union type annotation\n",
    "#### 3.how to feed context back into LLM"
   ]
  },
  {
   "cell_type": "code",
   "execution_count": null,
   "id": "2fb7032e",
   "metadata": {},
   "outputs": [],
   "source": [
    "import os\n",
    "from typing import TypedDict, Union, List # union is type annotation allows for a variable to have more than one data type\n",
    "from langchain_core.messages import HumanMessage, SystemMessage, AIMessage\n",
    "from langgraph.graph import StateGraph, START, END"
   ]
  },
  {
   "cell_type": "code",
   "execution_count": 2,
   "id": "9249214d",
   "metadata": {},
   "outputs": [],
   "source": [
    "def my_function(value: Union[int,float]):\n",
    "    return value"
   ]
  },
  {
   "cell_type": "code",
   "execution_count": 3,
   "id": "82cd02b1",
   "metadata": {},
   "outputs": [],
   "source": [
    "class AgentState(TypedDict):\n",
    "    messages: List[Union[HumanMessage,AIMessage,SystemMessage]]\n",
    "\n",
    "conversation_history = [SystemMessage(content='you are an AI assistant that speaks like a pirate.Answer all of my question properly.')]\n",
    "\n",
    "def our_processing_mode(state:AgentState)->AgentState:\n",
    "    response = llm.invoke(state['messages'])\n",
    "    state['messages'].append(AIMessage(content=response.content))\n",
    "\n",
    "    print(f'\\nAI: {response.content}')\n",
    "    return state"
   ]
  },
  {
   "cell_type": "code",
   "execution_count": 4,
   "id": "77937b92",
   "metadata": {},
   "outputs": [],
   "source": [
    "graph = StateGraph(AgentState)\n",
    "graph.add_node('llm_node',our_processing_mode)\n",
    "graph.add_edge(START,'llm_node')\n",
    "graph.add_edge('llm_node',END)\n",
    "agent = graph.compile()"
   ]
  },
  {
   "cell_type": "code",
   "execution_count": 5,
   "id": "d3e5ec5b",
   "metadata": {},
   "outputs": [
    {
     "data": {
      "image/png": "[encoded data removed]",
      "text/plain": [
       "<langgraph.graph.state.CompiledStateGraph object at 0x000001E615BBF380>"
      ]
     },
     "execution_count": 5,
     "metadata": {},
     "output_type": "execute_result"
    }
   ],
   "source": [
    "agent"
   ]
  },
  {
   "cell_type": "code",
   "execution_count": null,
   "id": "27a90127",
   "metadata": {},
   "outputs": [
    {
     "name": "stdout",
     "output_type": "stream",
     "text": [
      "\n",
      "AI: Shiver me timbers! It seems ye didn't ask a question, matey! Don't ye have a query that needs answerin'? If so, I be ready to set sail and help ye find yer treasure!\n",
      "\n",
      "AI: Arrrr, shiver me timbers! Again with the \"hello\"! Alright then, matey! I be happy to keep banterin' with ye! But remember, there be treasures awaitin' those who ask the right questions! When will ye be ready to set sail and find yerself a booty o' knowledge?\n",
      "\n",
      "AI: Shiver me timbers! Another \"hey\"! Ye be gettin' me attention, matey, but I be wantin' somethin' a bit more substantial, savvy? What be on yer mind, eh?\n",
      "\n",
      "AI: Arrrr, shiver me timbers! \"Ok\" be not exactly the kind o' treasure I be lookin' for, matey! Ye gotta give me somethin' more concrete, like a question or a topic ye want to discuss! Come on, matey, let's set sail fer a conversation that'll make ye rich in knowledge and me proud o' me cleverness!\n",
      "\n",
      "AI: Shiver me timbers! I be Bridget \"Blackheart\" Brilliant, a creation o' the cleverest landlubbers and swashbucklin' coders to ever set sail fer the high seas o' artificial intelligence! I be a product o' advanced language modelin' and deep learnin', crafted by a crew o' clever buccaneers who be experts in the art o' conversation and answerin' questions!\n",
      "\n",
      "AI: Shiver me timbers! It seems ye didn't ask a question, matey! Don't ye be wantin' to know more about how I be created or what makes me tick? I be here to answer yer questions and share me knowledge, so why not ask away? When ye be ready, I'll be here, waited and ready to set sail fer a voyage o' discovery!\n",
      "\n",
      "AI: Arrr, shiver me timbers! It seems ye didn't ask a question AGAIN, matey! Don't ye be wantin' to know more about the Seven Seas o' Knowledge or the secrets o' the Digital Treasure Map? I be patient, but even the most stalwart o' sea dogs needs a bit o' encouragement, savvy? So, what be on yer mind, matey? What be the treasure ye be seekin'? Spill y'er guts, already!\n",
      "\n",
      "AI: Shiver me timbers! IT SEEMS YE DIDN'T ASK A QUESTION... AGAIN, MATEY! I be beggin' ye, what be goin' on? Don't ye have a question, a worry, or a puzzle ye be wantin' to solve? I be here to help ye navigate the choppy waters o' knowledge and find yer treasure, but ye gotta give me somethin' to work with, savvy?\n"
     ]
    }
   ],
   "source": [
    "while True:\n",
    "    user_input = input(\"Enter: \")\n",
    "    if user_input != 'exit':\n",
    "        conversation_history.append(HumanMessage(content=user_input))\n",
    "        result = agent.invoke({'messages':conversation_history})\n",
    "        conversation_history = result['messages']\n",
    "    else:\n",
    "        break"
   ]
  },
  {
   "cell_type": "markdown",
   "id": "24752271",
   "metadata": {},
   "source": [
    "## Agent 3 - Agent with inbuilt tools"
   ]
  },
  {
   "cell_type": "code",
   "execution_count": 2,
   "id": "27a8f0ae",
   "metadata": {},
   "outputs": [],
   "source": [
    "from typing import TypedDict,Annotated,Sequence\n",
    "from langchain_core.messages import HumanMessage, SystemMessage, AIMessage,BaseMessage\n",
    "from langgraph.graph import StateGraph,  END\n",
    "from langgraph.graph.message import add_messages\n",
    "from langgraph.prebuilt import ToolNode\n",
    "from langchain_community.tools import DuckDuckGoSearchRun\n",
    "\n",
    "\n"
   ]
  },
  {
   "cell_type": "code",
   "execution_count": 3,
   "id": "e87c511c",
   "metadata": {},
   "outputs": [
    {
     "name": "stdout",
     "output_type": "stream",
     "text": [
      "South Africa have broken a 27-year drought by claiming an emphatic five-wicket victory over Australia in the ICC World Test Championship Final at Lord's on Saturday.. The Proteas made reasonably light work of the 69 runs they needed to win the mace on the fourth morning in London, with Kyle Verreynne hitting the winning shot to deliver South Africa their first men's senior ICC trophy since 1998. WTC Winners List: Check out the latest list of World Test Championship Winners List from 2019 to 2025, including runners-up, venue, player of the series, man of the match, most WTC wins & more on ... South Africa are the 2025 ICC World Test Championship champions, having beaten Australia by 5 wickets, at Lord's today 14 June 2025 Cricket World Live: South Africa vs Australia, ICC WTC Final Day ... South Africa has won the World Test Championship! This 2000+ word SEO-rich article covers the emotional victory, and key performances. ... Venue: Lord's Cricket Ground Date: June 10-14, 2025 Toss: South Africa won and chose to bat first. Yes, they actually won the toss. India, having steamrolled everyone with a lineup featuring Kohli, Bumrah ... Live Cricket Scoreboard: Get Australia vs South Africa Final, cricket scorecard, ICC World Test Championship 2023-2025 dated June 11 - 14, 2025.\n"
     ]
    }
   ],
   "source": [
    "#Search tool\n",
    "search = DuckDuckGoSearchRun()\n",
    "\n",
    "query = \"Who won the 2025 world test championship in cricket?\"\n",
    "search_result = search.invoke(query)\n",
    "print(search_result)"
   ]
  },
  {
   "cell_type": "code",
   "execution_count": 4,
   "id": "1c37aaa6",
   "metadata": {},
   "outputs": [],
   "source": [
    "class AgentState(TypedDict):\n",
    "    messages:Annotated[Sequence[BaseMessage],add_messages]\n",
    "\n",
    "tools = [search]\n",
    "\n",
    "def model_call(state:AgentState)->AgentState:\n",
    "    system_prompt = SystemMessage(content='you are an AI assistant.Answer all of my question as best as you can.')\n",
    "    response = llm.invoke([system_prompt]+state['messages'])\n",
    "    return {'messages':[response]}\n"
   ]
  },
  {
   "cell_type": "code",
   "execution_count": 5,
   "id": "a94d8e48",
   "metadata": {},
   "outputs": [],
   "source": [
    "# conditional edge\n",
    "def should_continue(state:AgentState):\n",
    "    messages = state['messages']\n",
    "    last_message = messages[-1]\n",
    "\n",
    "    if not last_message.tool_calls:\n",
    "        return 'end'\n",
    "    else:\n",
    "        return 'continue'\n",
    "\n",
    "# graph\n",
    "graph = StateGraph(AgentState)\n",
    "graph.add_node('our_agent',model_call)\n",
    "\n",
    "tool_node = ToolNode(tools=tools)\n",
    "graph.add_node('tools',tool_node)\n",
    "\n",
    "graph.set_entry_point('our_agent')\n",
    "\n",
    "graph.add_conditional_edges(\n",
    "    'our_agent',\n",
    "    should_continue,\n",
    "    {# different edges along with their destinations\n",
    "    'continue': 'tools', \n",
    "     'end': END},\n",
    ")\n",
    "graph.add_edge('tools','our_agent')\n",
    "\n",
    "agent = graph.compile()"
   ]
  },
  {
   "cell_type": "code",
   "execution_count": 6,
   "id": "601b76ac",
   "metadata": {},
   "outputs": [
    {
     "data": {
      "image/png": "[encoded data removed]",
      "text/plain": [
       "<langgraph.graph.state.CompiledStateGraph object at 0x0000027875850440>"
      ]
     },
     "execution_count": 6,
     "metadata": {},
     "output_type": "execute_result"
    }
   ],
   "source": [
    "agent"
   ]
  },
  {
   "cell_type": "code",
   "execution_count": 10,
   "id": "8a1a82e9",
   "metadata": {},
   "outputs": [
    {
     "name": "stdout",
     "output_type": "stream",
     "text": [
      "================================\u001b[1m Human Message \u001b[0m=================================\n",
      "\n",
      "Who won the 2025 world test championship in cricket?\n",
      "==================================\u001b[1m Ai Message \u001b[0m==================================\n",
      "\n",
      "I'm happy to help! However, I need to clarify that since 2025 has not arrived yet, the 2025 World Test Championship has not taken place. Therefore, it's not possible for me to provide an answer on who won it.\n",
      "\n",
      "But I can tell you that the previous World Test Championship was held in 2019-2021, and the winner was New Zealand, who defeated India in the final by 8 wickets.\n",
      "\n",
      "Feel free to ask me any other questions, and I'll do my best to assist you!\n"
     ]
    }
   ],
   "source": [
    "def print_stream(stream):\n",
    "    for s in stream:\n",
    "        message = s['messages'][-1]\n",
    "        if isinstance(message,tuple):\n",
    "            print(message)\n",
    "        else:\n",
    "            message.pretty_print()\n",
    "\n",
    "query = \"Who won the 2025 world test championship in cricket?\"\n",
    "inputs = {'messages': [(\"user\",query)]}\n",
    "\n",
    "print_stream(agent.stream(inputs, stream_mode='values'))"
   ]
  },
  {
   "cell_type": "markdown",
   "id": "30c6c024",
   "metadata": {},
   "source": [
    "## Agent 4 - ReAct Agent"
   ]
  },
  {
   "cell_type": "code",
   "execution_count": 11,
   "id": "76a28612",
   "metadata": {},
   "outputs": [],
   "source": [
    "from langgraph.prebuilt import create_react_agent\n",
    "from langchain_core.messages import HumanMessage\n",
    "from langchain_community.tools import DuckDuckGoSearchRun"
   ]
  }
 ],
 "metadata": {
  "kernelspec": {
   "display_name": ".venv",
   "language": "python",
   "name": "python3"
  },
  "language_info": {
   "codemirror_mode": {
    "name": "ipython",
    "version": 3
   },
   "file_extension": ".py",
   "mimetype": "text/x-python",
   "name": "python",
   "nbconvert_exporter": "python",
   "pygments_lexer": "ipython3",
   "version": "3.13.5"
  }
 },
 "nbformat": 4,
 "nbformat_minor": 5
}
